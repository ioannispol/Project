{
 "cells": [
  {
   "cell_type": "code",
   "execution_count": 2,
   "id": "upset-circular",
   "metadata": {},
   "outputs": [],
   "source": [
    "import os \n",
    "import pandas as pd\n",
    "import torch\n",
    "import matplotlib.pyplot as plt\n",
    "import torchvision.transforms as transforms\n",
    "\n",
    "from sklearn.preprocessing import LabelEncoder\n",
    "from torchvision import datasets"
   ]
  },
  {
   "cell_type": "code",
   "execution_count": 3,
   "id": "short-probe",
   "metadata": {},
   "outputs": [],
   "source": [
    "DATA_PATH = '../dataset/set_dataset/'\n",
    "train_path = os.path.join(DATA_PATH, 'train/')\n",
    "valid_path = os.path.join(DATA_PATH, 'val/') \n",
    "test_path = os.path.join(DATA_PATH, 'test/')\n",
    "train_labels = '../dataset/set_dataset/train_labes.csv'\n",
    "test_labels = '../dataset/set_dataset/test_labes.csv'\n",
    "valid_labels = '../dataset/set_dataset/val_labes.csv'"
   ]
  },
  {
   "cell_type": "code",
   "execution_count": 4,
   "id": "missing-nirvana",
   "metadata": {},
   "outputs": [
    {
     "data": {
      "text/html": [
       "<div>\n",
       "<style scoped>\n",
       "    .dataframe tbody tr th:only-of-type {\n",
       "        vertical-align: middle;\n",
       "    }\n",
       "\n",
       "    .dataframe tbody tr th {\n",
       "        vertical-align: top;\n",
       "    }\n",
       "\n",
       "    .dataframe thead th {\n",
       "        text-align: right;\n",
       "    }\n",
       "</style>\n",
       "<table border=\"1\" class=\"dataframe\">\n",
       "  <thead>\n",
       "    <tr style=\"text-align: right;\">\n",
       "      <th></th>\n",
       "      <th>filename</th>\n",
       "      <th>class</th>\n",
       "      <th>class_num</th>\n",
       "    </tr>\n",
       "  </thead>\n",
       "  <tbody>\n",
       "    <tr>\n",
       "      <th>0</th>\n",
       "      <td>bolt_0.jpg</td>\n",
       "      <td>bolt</td>\n",
       "      <td>1</td>\n",
       "    </tr>\n",
       "    <tr>\n",
       "      <th>1</th>\n",
       "      <td>bolt_1.jpg</td>\n",
       "      <td>bolt</td>\n",
       "      <td>1</td>\n",
       "    </tr>\n",
       "    <tr>\n",
       "      <th>2</th>\n",
       "      <td>bolt_10.jpg</td>\n",
       "      <td>bolt</td>\n",
       "      <td>1</td>\n",
       "    </tr>\n",
       "    <tr>\n",
       "      <th>3</th>\n",
       "      <td>bolt_102.jpg</td>\n",
       "      <td>bolt</td>\n",
       "      <td>1</td>\n",
       "    </tr>\n",
       "    <tr>\n",
       "      <th>4</th>\n",
       "      <td>bolt_103.jpg</td>\n",
       "      <td>bolt</td>\n",
       "      <td>1</td>\n",
       "    </tr>\n",
       "  </tbody>\n",
       "</table>\n",
       "</div>"
      ],
      "text/plain": [
       "       filename class  class_num\n",
       "0    bolt_0.jpg  bolt          1\n",
       "1    bolt_1.jpg  bolt          1\n",
       "2   bolt_10.jpg  bolt          1\n",
       "3  bolt_102.jpg  bolt          1\n",
       "4  bolt_103.jpg  bolt          1"
      ]
     },
     "execution_count": 4,
     "metadata": {},
     "output_type": "execute_result"
    }
   ],
   "source": [
    "train_labels = pd.read_csv(train_labels)\n",
    "train_labels.head()"
   ]
  },
  {
   "cell_type": "code",
   "execution_count": 5,
   "id": "mexican-apache",
   "metadata": {},
   "outputs": [
    {
     "data": {
      "text/html": [
       "<div>\n",
       "<style scoped>\n",
       "    .dataframe tbody tr th:only-of-type {\n",
       "        vertical-align: middle;\n",
       "    }\n",
       "\n",
       "    .dataframe tbody tr th {\n",
       "        vertical-align: top;\n",
       "    }\n",
       "\n",
       "    .dataframe thead th {\n",
       "        text-align: right;\n",
       "    }\n",
       "</style>\n",
       "<table border=\"1\" class=\"dataframe\">\n",
       "  <thead>\n",
       "    <tr style=\"text-align: right;\">\n",
       "      <th></th>\n",
       "      <th>filename</th>\n",
       "      <th>class</th>\n",
       "      <th>class_num</th>\n",
       "      <th>encoded_labels</th>\n",
       "    </tr>\n",
       "  </thead>\n",
       "  <tbody>\n",
       "    <tr>\n",
       "      <th>1514</th>\n",
       "      <td>pipe_444.jpg</td>\n",
       "      <td>pipe</td>\n",
       "      <td>5</td>\n",
       "      <td>4</td>\n",
       "    </tr>\n",
       "    <tr>\n",
       "      <th>1515</th>\n",
       "      <td>pipe_445.jpg</td>\n",
       "      <td>pipe</td>\n",
       "      <td>5</td>\n",
       "      <td>4</td>\n",
       "    </tr>\n",
       "    <tr>\n",
       "      <th>1516</th>\n",
       "      <td>pipe_446.jpg</td>\n",
       "      <td>pipe</td>\n",
       "      <td>5</td>\n",
       "      <td>4</td>\n",
       "    </tr>\n",
       "    <tr>\n",
       "      <th>1517</th>\n",
       "      <td>pipe_447.jpg</td>\n",
       "      <td>pipe</td>\n",
       "      <td>5</td>\n",
       "      <td>4</td>\n",
       "    </tr>\n",
       "    <tr>\n",
       "      <th>1518</th>\n",
       "      <td>pipe_448.jpg</td>\n",
       "      <td>pipe</td>\n",
       "      <td>5</td>\n",
       "      <td>4</td>\n",
       "    </tr>\n",
       "  </tbody>\n",
       "</table>\n",
       "</div>"
      ],
      "text/plain": [
       "          filename class  class_num  encoded_labels\n",
       "1514  pipe_444.jpg  pipe          5               4\n",
       "1515  pipe_445.jpg  pipe          5               4\n",
       "1516  pipe_446.jpg  pipe          5               4\n",
       "1517  pipe_447.jpg  pipe          5               4\n",
       "1518  pipe_448.jpg  pipe          5               4"
      ]
     },
     "execution_count": 5,
     "metadata": {},
     "output_type": "execute_result"
    }
   ],
   "source": [
    "lb = LabelEncoder()\n",
    "train_labels['encoded_labels'] = lb.fit_transform(train_labels['class'])\n",
    "train_labels.tail()"
   ]
  },
  {
   "cell_type": "code",
   "execution_count": 6,
   "id": "dangerous-glance",
   "metadata": {},
   "outputs": [
    {
     "data": {
      "text/plain": [
       "pipe          479\n",
       "nut           309\n",
       "bolt          248\n",
       "lead-block    243\n",
       "flange        240\n",
       "Name: class, dtype: int64"
      ]
     },
     "execution_count": 6,
     "metadata": {},
     "output_type": "execute_result"
    }
   ],
   "source": [
    "train_labels['class'].value_counts()"
   ]
  },
  {
   "cell_type": "code",
   "execution_count": 7,
   "id": "expanded-inquiry",
   "metadata": {},
   "outputs": [
    {
     "data": {
      "image/png": "[encoded data removed]",
      "text/plain": [
       "<Figure size 576x576 with 1 Axes>"
      ]
     },
     "metadata": {},
     "output_type": "display_data"
    }
   ],
   "source": [
    "label = ['bolt', 'flange', 'lead-block', 'nut', 'pipe']\n",
    "plt.figure(figsize=(8,8))\n",
    "plt.rcParams['font.size'] = 18\n",
    "myexplode = [0.1, 0.1, 0.1, 0.1, 0.1]\n",
    "plt.pie(train_labels.groupby('class').size(), labels=label,\n",
    "        autopct='%1.1f%%', shadow=True, \n",
    "        startangle=90, textprops={'color':\"w\"},\n",
    "       explode=myexplode)\n",
    "plt.show()"
   ]
  },
  {
   "cell_type": "code",
   "execution_count": 8,
   "id": "finite-killing",
   "metadata": {},
   "outputs": [
    {
     "name": "stdout",
     "output_type": "stream",
     "text": [
      "{'bolt': 0, 'flange': 1, 'lead-block': 2, 'nut': 3, 'pipe': 4}\n",
      "There are total 5 classes\n"
     ]
    }
   ],
   "source": [
    "class_names_label = {label: i for i, label in enumerate(label)}\n",
    "print(class_names_label)\n",
    "num_classes = len(label)\n",
    "print(f\"There are total {num_classes} classes\")"
   ]
  },
  {
   "cell_type": "code",
   "execution_count": 9,
   "id": "joined-grocery",
   "metadata": {},
   "outputs": [
    {
     "name": "stdout",
     "output_type": "stream",
     "text": [
      "Calculated means: tensor([0.3110, 0.2893, 0.2787])\n",
      "Calculated stds: tensor([0.1332, 0.1328, 0.1320])\n"
     ]
    }
   ],
   "source": [
    "# Find the mean and std of the training dataset\n",
    "\n",
    "train_path = '../dataset/filed_dataset/train/'\n",
    "train_data = datasets.ImageFolder(train_path, transform=transforms.ToTensor())\n",
    "\n",
    "means = torch.zeros(3)\n",
    "stds = torch.zeros(3)\n",
    "\n",
    "for img, label in train_data:\n",
    "    means += torch.mean(img, dim=(1,2))\n",
    "    stds += torch.std(img, dim=(1,2))\n",
    "\n",
    "means /= len(train_data)\n",
    "stds /= len(train_data)\n",
    "print(f'Calculated means: {means}')\n",
    "print(f'Calculated stds: {stds}')"
   ]
  },
  {
   "cell_type": "code",
   "execution_count": 11,
   "id": "bearing-encoding",
   "metadata": {},
   "outputs": [
    {
     "data": {
      "text/html": [
       "<div>\n",
       "<style scoped>\n",
       "    .dataframe tbody tr th:only-of-type {\n",
       "        vertical-align: middle;\n",
       "    }\n",
       "\n",
       "    .dataframe tbody tr th {\n",
       "        vertical-align: top;\n",
       "    }\n",
       "\n",
       "    .dataframe thead th {\n",
       "        text-align: right;\n",
       "    }\n",
       "</style>\n",
       "<table border=\"1\" class=\"dataframe\">\n",
       "  <thead>\n",
       "    <tr style=\"text-align: right;\">\n",
       "      <th></th>\n",
       "      <th>filename</th>\n",
       "      <th>class</th>\n",
       "      <th>class_num</th>\n",
       "    </tr>\n",
       "  </thead>\n",
       "  <tbody>\n",
       "    <tr>\n",
       "      <th>0</th>\n",
       "      <td>bolt_260.jpg</td>\n",
       "      <td>bolt</td>\n",
       "      <td>1</td>\n",
       "    </tr>\n",
       "    <tr>\n",
       "      <th>1</th>\n",
       "      <td>bolt_261.jpg</td>\n",
       "      <td>bolt</td>\n",
       "      <td>1</td>\n",
       "    </tr>\n",
       "    <tr>\n",
       "      <th>2</th>\n",
       "      <td>bolt_262.jpg</td>\n",
       "      <td>bolt</td>\n",
       "      <td>1</td>\n",
       "    </tr>\n",
       "    <tr>\n",
       "      <th>3</th>\n",
       "      <td>bolt_263.jpg</td>\n",
       "      <td>bolt</td>\n",
       "      <td>1</td>\n",
       "    </tr>\n",
       "    <tr>\n",
       "      <th>4</th>\n",
       "      <td>bolt_264.jpg</td>\n",
       "      <td>bolt</td>\n",
       "      <td>1</td>\n",
       "    </tr>\n",
       "  </tbody>\n",
       "</table>\n",
       "</div>"
      ],
      "text/plain": [
       "       filename class  class_num\n",
       "0  bolt_260.jpg  bolt          1\n",
       "1  bolt_261.jpg  bolt          1\n",
       "2  bolt_262.jpg  bolt          1\n",
       "3  bolt_263.jpg  bolt          1\n",
       "4  bolt_264.jpg  bolt          1"
      ]
     },
     "execution_count": 11,
     "metadata": {},
     "output_type": "execute_result"
    }
   ],
   "source": [
    "raw_data_csv = '../dataset/raw_labes.csv'\n",
    "\n",
    "data = pd.read_csv(raw_data_csv)\n",
    "data.head()"
   ]
  },
  {
   "cell_type": "code",
   "execution_count": null,
   "id": "middle-characteristic",
   "metadata": {},
   "outputs": [],
   "source": []
  }
 ],
 "metadata": {
  "kernelspec": {
   "display_name": "Python 3.8.5 (torch-gpu)",
   "language": "python",
   "name": "torch"
  },
  "language_info": {
   "codemirror_mode": {
    "name": "ipython",
    "version": 3
   },
   "file_extension": ".py",
   "mimetype": "text/x-python",
   "name": "python",
   "nbconvert_exporter": "python",
   "pygments_lexer": "ipython3",
   "version": "3.8.5"
  }
 },
 "nbformat": 4,
 "nbformat_minor": 5
}
